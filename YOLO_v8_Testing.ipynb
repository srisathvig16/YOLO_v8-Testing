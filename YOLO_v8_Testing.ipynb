{
  "nbformat": 4,
  "nbformat_minor": 0,
  "metadata": {
    "colab": {
      "provenance": []
    },
    "kernelspec": {
      "name": "python3",
      "display_name": "Python 3"
    },
    "language_info": {
      "name": "python"
    }
  },
  "cells": [
    {
      "cell_type": "code",
      "source": [
        "!pip install ultralytics\n",
        "from ultralytics import YOLO"
      ],
      "metadata": {
        "colab": {
          "base_uri": "https://localhost:8080/"
        },
        "id": "GljVC2utq7Az",
        "outputId": "a8114fa0-3bf4-46e2-b6eb-e7492cc2f979"
      },
      "execution_count": 8,
      "outputs": [
        {
          "output_type": "stream",
          "name": "stdout",
          "text": [
            "Requirement already satisfied: ultralytics in /usr/local/lib/python3.10/dist-packages (8.1.1)\n",
            "Requirement already satisfied: matplotlib>=3.3.0 in /usr/local/lib/python3.10/dist-packages (from ultralytics) (3.7.1)\n",
            "Requirement already satisfied: numpy>=1.22.2 in /usr/local/lib/python3.10/dist-packages (from ultralytics) (1.23.5)\n",
            "Requirement already satisfied: opencv-python>=4.6.0 in /usr/local/lib/python3.10/dist-packages (from ultralytics) (4.8.0.76)\n",
            "Requirement already satisfied: pillow>=7.1.2 in /usr/local/lib/python3.10/dist-packages (from ultralytics) (9.4.0)\n",
            "Requirement already satisfied: pyyaml>=5.3.1 in /usr/local/lib/python3.10/dist-packages (from ultralytics) (6.0.1)\n",
            "Requirement already satisfied: requests>=2.23.0 in /usr/local/lib/python3.10/dist-packages (from ultralytics) (2.31.0)\n",
            "Requirement already satisfied: scipy>=1.4.1 in /usr/local/lib/python3.10/dist-packages (from ultralytics) (1.11.4)\n",
            "Requirement already satisfied: torch>=1.8.0 in /usr/local/lib/python3.10/dist-packages (from ultralytics) (2.1.0+cu121)\n",
            "Requirement already satisfied: torchvision>=0.9.0 in /usr/local/lib/python3.10/dist-packages (from ultralytics) (0.16.0+cu121)\n",
            "Requirement already satisfied: tqdm>=4.64.0 in /usr/local/lib/python3.10/dist-packages (from ultralytics) (4.66.1)\n",
            "Requirement already satisfied: psutil in /usr/local/lib/python3.10/dist-packages (from ultralytics) (5.9.5)\n",
            "Requirement already satisfied: py-cpuinfo in /usr/local/lib/python3.10/dist-packages (from ultralytics) (9.0.0)\n",
            "Requirement already satisfied: thop>=0.1.1 in /usr/local/lib/python3.10/dist-packages (from ultralytics) (0.1.1.post2209072238)\n",
            "Requirement already satisfied: pandas>=1.1.4 in /usr/local/lib/python3.10/dist-packages (from ultralytics) (1.5.3)\n",
            "Requirement already satisfied: seaborn>=0.11.0 in /usr/local/lib/python3.10/dist-packages (from ultralytics) (0.12.2)\n",
            "Requirement already satisfied: hub-sdk>=0.0.2 in /usr/local/lib/python3.10/dist-packages (from ultralytics) (0.0.3)\n",
            "Requirement already satisfied: contourpy>=1.0.1 in /usr/local/lib/python3.10/dist-packages (from matplotlib>=3.3.0->ultralytics) (1.2.0)\n",
            "Requirement already satisfied: cycler>=0.10 in /usr/local/lib/python3.10/dist-packages (from matplotlib>=3.3.0->ultralytics) (0.12.1)\n",
            "Requirement already satisfied: fonttools>=4.22.0 in /usr/local/lib/python3.10/dist-packages (from matplotlib>=3.3.0->ultralytics) (4.47.0)\n",
            "Requirement already satisfied: kiwisolver>=1.0.1 in /usr/local/lib/python3.10/dist-packages (from matplotlib>=3.3.0->ultralytics) (1.4.5)\n",
            "Requirement already satisfied: packaging>=20.0 in /usr/local/lib/python3.10/dist-packages (from matplotlib>=3.3.0->ultralytics) (23.2)\n",
            "Requirement already satisfied: pyparsing>=2.3.1 in /usr/local/lib/python3.10/dist-packages (from matplotlib>=3.3.0->ultralytics) (3.1.1)\n",
            "Requirement already satisfied: python-dateutil>=2.7 in /usr/local/lib/python3.10/dist-packages (from matplotlib>=3.3.0->ultralytics) (2.8.2)\n",
            "Requirement already satisfied: pytz>=2020.1 in /usr/local/lib/python3.10/dist-packages (from pandas>=1.1.4->ultralytics) (2023.3.post1)\n",
            "Requirement already satisfied: charset-normalizer<4,>=2 in /usr/local/lib/python3.10/dist-packages (from requests>=2.23.0->ultralytics) (3.3.2)\n",
            "Requirement already satisfied: idna<4,>=2.5 in /usr/local/lib/python3.10/dist-packages (from requests>=2.23.0->ultralytics) (3.6)\n",
            "Requirement already satisfied: urllib3<3,>=1.21.1 in /usr/local/lib/python3.10/dist-packages (from requests>=2.23.0->ultralytics) (2.0.7)\n",
            "Requirement already satisfied: certifi>=2017.4.17 in /usr/local/lib/python3.10/dist-packages (from requests>=2.23.0->ultralytics) (2023.11.17)\n",
            "Requirement already satisfied: filelock in /usr/local/lib/python3.10/dist-packages (from torch>=1.8.0->ultralytics) (3.13.1)\n",
            "Requirement already satisfied: typing-extensions in /usr/local/lib/python3.10/dist-packages (from torch>=1.8.0->ultralytics) (4.5.0)\n",
            "Requirement already satisfied: sympy in /usr/local/lib/python3.10/dist-packages (from torch>=1.8.0->ultralytics) (1.12)\n",
            "Requirement already satisfied: networkx in /usr/local/lib/python3.10/dist-packages (from torch>=1.8.0->ultralytics) (3.2.1)\n",
            "Requirement already satisfied: jinja2 in /usr/local/lib/python3.10/dist-packages (from torch>=1.8.0->ultralytics) (3.1.2)\n",
            "Requirement already satisfied: fsspec in /usr/local/lib/python3.10/dist-packages (from torch>=1.8.0->ultralytics) (2023.6.0)\n",
            "Requirement already satisfied: triton==2.1.0 in /usr/local/lib/python3.10/dist-packages (from torch>=1.8.0->ultralytics) (2.1.0)\n",
            "Requirement already satisfied: six>=1.5 in /usr/local/lib/python3.10/dist-packages (from python-dateutil>=2.7->matplotlib>=3.3.0->ultralytics) (1.16.0)\n",
            "Requirement already satisfied: MarkupSafe>=2.0 in /usr/local/lib/python3.10/dist-packages (from jinja2->torch>=1.8.0->ultralytics) (2.1.3)\n",
            "Requirement already satisfied: mpmath>=0.19 in /usr/local/lib/python3.10/dist-packages (from sympy->torch>=1.8.0->ultralytics) (1.3.0)\n"
          ]
        }
      ]
    },
    {
      "cell_type": "code",
      "source": [
        "model = YOLO(\"yolov8n.pt\")"
      ],
      "metadata": {
        "colab": {
          "base_uri": "https://localhost:8080/"
        },
        "id": "Y5UnMzpJzFtm",
        "outputId": "87690247-0a2b-49d7-96d7-03b2fd74546f"
      },
      "execution_count": 9,
      "outputs": [
        {
          "output_type": "stream",
          "name": "stdout",
          "text": [
            "Downloading https://github.com/ultralytics/assets/releases/download/v8.1.0/yolov8n.pt to 'yolov8n.pt'...\n"
          ]
        },
        {
          "output_type": "stream",
          "name": "stderr",
          "text": [
            "100%|██████████| 6.23M/6.23M [00:00<00:00, 85.0MB/s]\n"
          ]
        }
      ]
    },
    {
      "cell_type": "code",
      "source": [
        "model.train(data=\"coco128.yaml\", epochs=3)\n",
        "metrics = model.val()\n",
        "results = model(\"https://ultralytics.com/images/bus.jpg\")\n",
        "path = model.export(format=\"onnx\")"
      ],
      "metadata": {
        "colab": {
          "base_uri": "https://localhost:8080/"
        },
        "id": "lZ0Lf6yYzmia",
        "outputId": "fc79fa81-c728-4285-c419-6ba3360a9777"
      },
      "execution_count": 10,
      "outputs": [
        {
          "output_type": "stream",
          "name": "stdout",
          "text": [
            "Ultralytics YOLOv8.1.1 🚀 Python-3.10.12 torch-2.1.0+cu121 CPU (Intel Xeon 2.20GHz)\n",
            "\u001b[34m\u001b[1mengine/trainer: \u001b[0mtask=detect, mode=train, model=yolov8n.pt, data=coco128.yaml, epochs=3, time=None, patience=50, batch=16, imgsz=640, save=True, save_period=-1, cache=False, device=None, workers=8, project=None, name=train, exist_ok=False, pretrained=True, optimizer=auto, verbose=True, seed=0, deterministic=True, single_cls=False, rect=False, cos_lr=False, close_mosaic=10, resume=False, amp=True, fraction=1.0, profile=False, freeze=None, multi_scale=False, overlap_mask=True, mask_ratio=4, dropout=0.0, val=True, split=val, save_json=False, save_hybrid=False, conf=None, iou=0.7, max_det=300, half=False, dnn=False, plots=True, source=None, vid_stride=1, stream_buffer=False, visualize=False, augment=False, agnostic_nms=False, classes=None, retina_masks=False, embed=None, show=False, save_frames=False, save_txt=False, save_conf=False, save_crop=False, show_labels=True, show_conf=True, show_boxes=True, line_width=None, format=torchscript, keras=False, optimize=False, int8=False, dynamic=False, simplify=False, opset=None, workspace=4, nms=False, lr0=0.01, lrf=0.01, momentum=0.937, weight_decay=0.0005, warmup_epochs=3.0, warmup_momentum=0.8, warmup_bias_lr=0.1, box=7.5, cls=0.5, dfl=1.5, pose=12.0, kobj=1.0, label_smoothing=0.0, nbs=64, hsv_h=0.015, hsv_s=0.7, hsv_v=0.4, degrees=0.0, translate=0.1, scale=0.5, shear=0.0, perspective=0.0, flipud=0.0, fliplr=0.5, mosaic=1.0, mixup=0.0, copy_paste=0.0, auto_augment=randaugment, erasing=0.4, crop_fraction=1.0, cfg=None, tracker=botsort.yaml, save_dir=runs/detect/train\n",
            "\n",
            "Dataset 'coco128.yaml' images not found ⚠️, missing path '/content/datasets/coco128/images/train2017'\n",
            "Downloading https://ultralytics.com/assets/coco128.zip to '/content/datasets/coco128.zip'...\n"
          ]
        },
        {
          "output_type": "stream",
          "name": "stderr",
          "text": [
            "100%|██████████| 6.66M/6.66M [00:00<00:00, 53.1MB/s]\n",
            "Unzipping /content/datasets/coco128.zip to /content/datasets/coco128...: 100%|██████████| 263/263 [00:00<00:00, 862.05file/s]"
          ]
        },
        {
          "output_type": "stream",
          "name": "stdout",
          "text": [
            "Dataset download success ✅ (1.8s), saved to \u001b[1m/content/datasets\u001b[0m\n",
            "\n"
          ]
        },
        {
          "output_type": "stream",
          "name": "stderr",
          "text": [
            "\n"
          ]
        },
        {
          "output_type": "stream",
          "name": "stdout",
          "text": [
            "Downloading https://ultralytics.com/assets/Arial.ttf to '/root/.config/Ultralytics/Arial.ttf'...\n"
          ]
        },
        {
          "output_type": "stream",
          "name": "stderr",
          "text": [
            "100%|██████████| 755k/755k [00:00<00:00, 17.1MB/s]\n"
          ]
        },
        {
          "output_type": "stream",
          "name": "stdout",
          "text": [
            "\n",
            "                   from  n    params  module                                       arguments                     \n",
            "  0                  -1  1       464  ultralytics.nn.modules.conv.Conv             [3, 16, 3, 2]                 \n",
            "  1                  -1  1      4672  ultralytics.nn.modules.conv.Conv             [16, 32, 3, 2]                \n",
            "  2                  -1  1      7360  ultralytics.nn.modules.block.C2f             [32, 32, 1, True]             \n",
            "  3                  -1  1     18560  ultralytics.nn.modules.conv.Conv             [32, 64, 3, 2]                \n",
            "  4                  -1  2     49664  ultralytics.nn.modules.block.C2f             [64, 64, 2, True]             \n",
            "  5                  -1  1     73984  ultralytics.nn.modules.conv.Conv             [64, 128, 3, 2]               \n",
            "  6                  -1  2    197632  ultralytics.nn.modules.block.C2f             [128, 128, 2, True]           \n",
            "  7                  -1  1    295424  ultralytics.nn.modules.conv.Conv             [128, 256, 3, 2]              \n",
            "  8                  -1  1    460288  ultralytics.nn.modules.block.C2f             [256, 256, 1, True]           \n",
            "  9                  -1  1    164608  ultralytics.nn.modules.block.SPPF            [256, 256, 5]                 \n",
            " 10                  -1  1         0  torch.nn.modules.upsampling.Upsample         [None, 2, 'nearest']          \n",
            " 11             [-1, 6]  1         0  ultralytics.nn.modules.conv.Concat           [1]                           \n",
            " 12                  -1  1    148224  ultralytics.nn.modules.block.C2f             [384, 128, 1]                 \n",
            " 13                  -1  1         0  torch.nn.modules.upsampling.Upsample         [None, 2, 'nearest']          \n",
            " 14             [-1, 4]  1         0  ultralytics.nn.modules.conv.Concat           [1]                           \n",
            " 15                  -1  1     37248  ultralytics.nn.modules.block.C2f             [192, 64, 1]                  \n",
            " 16                  -1  1     36992  ultralytics.nn.modules.conv.Conv             [64, 64, 3, 2]                \n",
            " 17            [-1, 12]  1         0  ultralytics.nn.modules.conv.Concat           [1]                           \n",
            " 18                  -1  1    123648  ultralytics.nn.modules.block.C2f             [192, 128, 1]                 \n",
            " 19                  -1  1    147712  ultralytics.nn.modules.conv.Conv             [128, 128, 3, 2]              \n",
            " 20             [-1, 9]  1         0  ultralytics.nn.modules.conv.Concat           [1]                           \n",
            " 21                  -1  1    493056  ultralytics.nn.modules.block.C2f             [384, 256, 1]                 \n",
            " 22        [15, 18, 21]  1    897664  ultralytics.nn.modules.head.Detect           [80, [64, 128, 256]]          \n",
            "Model summary: 225 layers, 3157200 parameters, 3157184 gradients, 8.9 GFLOPs\n",
            "\n",
            "Transferred 355/355 items from pretrained weights\n",
            "\u001b[34m\u001b[1mTensorBoard: \u001b[0mStart with 'tensorboard --logdir runs/detect/train', view at http://localhost:6006/\n",
            "Freezing layer 'model.22.dfl.conv.weight'\n"
          ]
        },
        {
          "output_type": "stream",
          "name": "stderr",
          "text": [
            "\u001b[34m\u001b[1mtrain: \u001b[0mScanning /content/datasets/coco128/labels/train2017... 126 images, 2 backgrounds, 0 corrupt: 100%|██████████| 128/128 [00:00<00:00, 1393.15it/s]"
          ]
        },
        {
          "output_type": "stream",
          "name": "stdout",
          "text": [
            "\u001b[34m\u001b[1mtrain: \u001b[0mNew cache created: /content/datasets/coco128/labels/train2017.cache\n"
          ]
        },
        {
          "output_type": "stream",
          "name": "stderr",
          "text": [
            "\n"
          ]
        },
        {
          "output_type": "stream",
          "name": "stdout",
          "text": [
            "\u001b[34m\u001b[1malbumentations: \u001b[0mBlur(p=0.01, blur_limit=(3, 7)), MedianBlur(p=0.01, blur_limit=(3, 7)), ToGray(p=0.01), CLAHE(p=0.01, clip_limit=(1, 4.0), tile_grid_size=(8, 8))\n"
          ]
        },
        {
          "output_type": "stream",
          "name": "stderr",
          "text": [
            "\u001b[34m\u001b[1mval: \u001b[0mScanning /content/datasets/coco128/labels/train2017.cache... 126 images, 2 backgrounds, 0 corrupt: 100%|██████████| 128/128 [00:00<?, ?it/s]\n"
          ]
        },
        {
          "output_type": "stream",
          "name": "stdout",
          "text": [
            "Plotting labels to runs/detect/train/labels.jpg... \n",
            "\u001b[34m\u001b[1moptimizer:\u001b[0m 'optimizer=auto' found, ignoring 'lr0=0.01' and 'momentum=0.937' and determining best 'optimizer', 'lr0' and 'momentum' automatically... \n",
            "\u001b[34m\u001b[1moptimizer:\u001b[0m AdamW(lr=0.000119, momentum=0.9) with parameter groups 57 weight(decay=0.0), 64 weight(decay=0.0005), 63 bias(decay=0.0)\n",
            "3 epochs...\n",
            "\n",
            "      Epoch    GPU_mem   box_loss   cls_loss   dfl_loss  Instances       Size\n"
          ]
        },
        {
          "output_type": "stream",
          "name": "stderr",
          "text": [
            "        1/3         0G      1.153      1.547      1.269        170        640: 100%|██████████| 8/8 [02:16<00:00, 17.02s/it]\n",
            "                 Class     Images  Instances      Box(P          R      mAP50  mAP50-95): 100%|██████████| 4/4 [00:42<00:00, 10.75s/it]"
          ]
        },
        {
          "output_type": "stream",
          "name": "stdout",
          "text": [
            "                   all        128        929      0.665      0.523      0.599       0.44\n"
          ]
        },
        {
          "output_type": "stream",
          "name": "stderr",
          "text": [
            "\n"
          ]
        },
        {
          "output_type": "stream",
          "name": "stdout",
          "text": [
            "\n",
            "      Epoch    GPU_mem   box_loss   cls_loss   dfl_loss  Instances       Size\n"
          ]
        },
        {
          "output_type": "stream",
          "name": "stderr",
          "text": [
            "        2/3         0G      1.152      1.359      1.199        308        640: 100%|██████████| 8/8 [02:00<00:00, 15.02s/it]\n",
            "                 Class     Images  Instances      Box(P          R      mAP50  mAP50-95): 100%|██████████| 4/4 [00:41<00:00, 10.40s/it]"
          ]
        },
        {
          "output_type": "stream",
          "name": "stdout",
          "text": [
            "                   all        128        929      0.673       0.54      0.612      0.454\n"
          ]
        },
        {
          "output_type": "stream",
          "name": "stderr",
          "text": [
            "\n"
          ]
        },
        {
          "output_type": "stream",
          "name": "stdout",
          "text": [
            "\n",
            "      Epoch    GPU_mem   box_loss   cls_loss   dfl_loss  Instances       Size\n"
          ]
        },
        {
          "output_type": "stream",
          "name": "stderr",
          "text": [
            "        3/3         0G      1.177       1.33      1.235        197        640: 100%|██████████| 8/8 [01:58<00:00, 14.81s/it]\n",
            "                 Class     Images  Instances      Box(P          R      mAP50  mAP50-95): 100%|██████████| 4/4 [00:39<00:00,  9.98s/it]"
          ]
        },
        {
          "output_type": "stream",
          "name": "stdout",
          "text": [
            "                   all        128        929      0.617      0.589      0.624      0.465\n"
          ]
        },
        {
          "output_type": "stream",
          "name": "stderr",
          "text": [
            "\n"
          ]
        },
        {
          "output_type": "stream",
          "name": "stdout",
          "text": [
            "\n",
            "3 epochs completed in 0.141 hours.\n",
            "Optimizer stripped from runs/detect/train/weights/last.pt, 6.5MB\n",
            "Optimizer stripped from runs/detect/train/weights/best.pt, 6.5MB\n",
            "\n",
            "Validating runs/detect/train/weights/best.pt...\n",
            "Ultralytics YOLOv8.1.1 🚀 Python-3.10.12 torch-2.1.0+cu121 CPU (Intel Xeon 2.20GHz)\n",
            "Model summary (fused): 168 layers, 3151904 parameters, 0 gradients, 8.7 GFLOPs\n"
          ]
        },
        {
          "output_type": "stream",
          "name": "stderr",
          "text": [
            "                 Class     Images  Instances      Box(P          R      mAP50  mAP50-95): 100%|██████████| 4/4 [00:35<00:00,  8.83s/it]\n"
          ]
        },
        {
          "output_type": "stream",
          "name": "stdout",
          "text": [
            "                   all        128        929      0.618      0.589      0.624      0.465\n",
            "                person        128        254      0.764      0.703      0.771      0.549\n",
            "               bicycle        128          6      0.531      0.333      0.315      0.276\n",
            "                   car        128         46      0.513      0.217      0.287      0.182\n",
            "            motorcycle        128          5      0.646          1      0.962      0.776\n",
            "              airplane        128          6      0.693      0.667      0.885      0.666\n",
            "                   bus        128          7      0.532      0.714      0.727      0.604\n",
            "                 train        128          3      0.527      0.667      0.703      0.703\n",
            "                 truck        128         12      0.624      0.417      0.491      0.295\n",
            "                  boat        128          6      0.464      0.297      0.391      0.248\n",
            "         traffic light        128         14      0.601      0.214      0.206       0.14\n",
            "             stop sign        128          2          1      0.994      0.995      0.703\n",
            "                 bench        128          9      0.838      0.578      0.625      0.381\n",
            "                  bird        128         16       0.93      0.826      0.927      0.562\n",
            "                   cat        128          4      0.846          1      0.995       0.82\n",
            "                   dog        128          9      0.641      0.793      0.826      0.605\n",
            "                 horse        128          2      0.528          1      0.995      0.547\n",
            "              elephant        128         17      0.892      0.824      0.877      0.683\n",
            "                  bear        128          1      0.608          1      0.995      0.995\n",
            "                 zebra        128          4      0.847          1      0.995      0.965\n",
            "               giraffe        128          9      0.688       0.98      0.949      0.701\n",
            "              backpack        128          6      0.547      0.333      0.395      0.261\n",
            "              umbrella        128         18       0.71      0.556      0.662      0.446\n",
            "               handbag        128         19      0.634      0.105      0.158     0.0861\n",
            "                   tie        128          7      0.698      0.714      0.705      0.477\n",
            "              suitcase        128          4      0.514          1      0.895      0.596\n",
            "               frisbee        128          5      0.596        0.8      0.732      0.639\n",
            "                  skis        128          1      0.367          1      0.497       0.21\n",
            "             snowboard        128          7      0.738      0.714      0.745      0.483\n",
            "           sports ball        128          6       0.71        0.5      0.573      0.327\n",
            "                  kite        128         10      0.826      0.479      0.564      0.183\n",
            "          baseball bat        128          4      0.408        0.5      0.414      0.191\n",
            "        baseball glove        128          7      0.622      0.429      0.429       0.33\n",
            "            skateboard        128          5      0.716        0.6        0.6      0.426\n",
            "         tennis racket        128          7      0.511      0.286      0.445      0.299\n",
            "                bottle        128         18       0.43      0.389      0.368       0.22\n",
            "            wine glass        128         16      0.515      0.466      0.559      0.332\n",
            "                   cup        128         36      0.651      0.306       0.42      0.294\n",
            "                  fork        128          6          1      0.309      0.364      0.252\n",
            "                 knife        128         16      0.646      0.562       0.62       0.36\n",
            "                 spoon        128         22      0.469      0.182      0.357       0.19\n",
            "                  bowl        128         28        0.6      0.679       0.63      0.524\n",
            "                banana        128          1      0.131      0.654      0.199     0.0507\n",
            "              sandwich        128          2      0.527          1      0.663      0.663\n",
            "                orange        128          4          1      0.484      0.995      0.666\n",
            "              broccoli        128         11      0.408      0.182      0.249      0.213\n",
            "                carrot        128         24      0.571      0.666      0.679      0.418\n",
            "               hot dog        128          2      0.531          1      0.828      0.795\n",
            "                 pizza        128          5      0.613          1      0.962       0.84\n",
            "                 donut        128         14      0.601          1      0.897      0.791\n",
            "                  cake        128          4       0.62          1      0.995      0.855\n",
            "                 chair        128         35      0.414      0.514      0.441      0.262\n",
            "                 couch        128          6       0.47        0.5      0.621      0.461\n",
            "          potted plant        128         14      0.556      0.627      0.696      0.477\n",
            "                   bed        128          3       0.67      0.678      0.913      0.742\n",
            "          dining table        128         13      0.401      0.615      0.548       0.44\n",
            "                toilet        128          2      0.604        0.5      0.828      0.796\n",
            "                    tv        128          2      0.505      0.515      0.828      0.762\n",
            "                laptop        128          3      0.946      0.333      0.582      0.458\n",
            "                 mouse        128          2          1          0          0          0\n",
            "                remote        128          8      0.691        0.5      0.559      0.469\n",
            "            cell phone        128          8          0          0     0.0447     0.0221\n",
            "             microwave        128          3      0.473          1      0.913      0.766\n",
            "                  oven        128          5      0.354        0.4      0.375      0.295\n",
            "                  sink        128          6      0.318      0.167      0.187      0.123\n",
            "          refrigerator        128          5      0.508        0.4      0.615      0.493\n",
            "                  book        128         29      0.442      0.138      0.279      0.147\n",
            "                 clock        128          9      0.784      0.808      0.896      0.734\n",
            "                  vase        128          2      0.332          1      0.828      0.745\n",
            "              scissors        128          1          1          0      0.199     0.0597\n",
            "            teddy bear        128         21      0.809      0.429      0.608      0.412\n",
            "            toothbrush        128          5          1      0.547      0.839      0.534\n",
            "Speed: 6.7ms preprocess, 239.4ms inference, 0.0ms loss, 3.5ms postprocess per image\n",
            "Results saved to \u001b[1mruns/detect/train\u001b[0m\n",
            "Ultralytics YOLOv8.1.1 🚀 Python-3.10.12 torch-2.1.0+cu121 CPU (Intel Xeon 2.20GHz)\n",
            "Model summary (fused): 168 layers, 3151904 parameters, 0 gradients, 8.7 GFLOPs\n"
          ]
        },
        {
          "output_type": "stream",
          "name": "stderr",
          "text": [
            "\u001b[34m\u001b[1mval: \u001b[0mScanning /content/datasets/coco128/labels/train2017.cache... 126 images, 2 backgrounds, 0 corrupt: 100%|██████████| 128/128 [00:00<?, ?it/s]\n",
            "                 Class     Images  Instances      Box(P          R      mAP50  mAP50-95): 100%|██████████| 8/8 [00:32<00:00,  4.02s/it]\n"
          ]
        },
        {
          "output_type": "stream",
          "name": "stdout",
          "text": [
            "                   all        128        929       0.62      0.574      0.619      0.462\n",
            "                person        128        254      0.764        0.7      0.772      0.552\n",
            "               bicycle        128          6      0.539      0.333      0.313      0.275\n",
            "                   car        128         46      0.557      0.217      0.287      0.183\n",
            "            motorcycle        128          5      0.657          1      0.928       0.76\n",
            "              airplane        128          6      0.698      0.667      0.885      0.666\n",
            "                   bus        128          7      0.492      0.714      0.728      0.597\n",
            "                 train        128          3       0.53      0.667      0.705      0.705\n",
            "                 truck        128         12      0.689      0.373      0.481       0.26\n",
            "                  boat        128          6      0.312      0.236      0.353      0.172\n",
            "         traffic light        128         14      0.624      0.214      0.206       0.14\n",
            "             stop sign        128          2          1      0.989      0.995      0.703\n",
            "                 bench        128          9      0.836      0.566      0.625      0.381\n",
            "                  bird        128         16      0.929      0.818      0.927      0.563\n",
            "                   cat        128          4      0.849          1      0.995       0.82\n",
            "                   dog        128          9      0.638      0.785      0.826      0.605\n",
            "                 horse        128          2      0.533          1      0.995      0.547\n",
            "              elephant        128         17      0.895      0.824      0.877      0.683\n",
            "                  bear        128          1      0.612          1      0.995      0.995\n",
            "                 zebra        128          4      0.847          1      0.995      0.965\n",
            "               giraffe        128          9      0.815      0.983      0.951       0.76\n",
            "              backpack        128          6      0.527      0.333      0.379      0.255\n",
            "              umbrella        128         18      0.742      0.556      0.661      0.445\n",
            "               handbag        128         19      0.663      0.105      0.157      0.086\n",
            "                   tie        128          7      0.705      0.714      0.705      0.477\n",
            "              suitcase        128          4      0.532          1      0.895      0.596\n",
            "               frisbee        128          5      0.609        0.8      0.732      0.639\n",
            "                  skis        128          1      0.375          1      0.497      0.211\n",
            "             snowboard        128          7      0.749      0.714      0.746      0.483\n",
            "           sports ball        128          6      0.717        0.5      0.556      0.319\n",
            "                  kite        128         10      0.824      0.473      0.566      0.184\n",
            "          baseball bat        128          4      0.345       0.25      0.347      0.174\n",
            "        baseball glove        128          7      0.632      0.429      0.429       0.33\n",
            "            skateboard        128          5      0.814        0.6        0.6       0.44\n",
            "         tennis racket        128          7      0.739       0.41      0.472      0.324\n",
            "                bottle        128         18      0.406      0.342      0.369      0.224\n",
            "            wine glass        128         16      0.505      0.384       0.52      0.328\n",
            "                   cup        128         36      0.609      0.333      0.433        0.3\n",
            "                  fork        128          6      0.564      0.167      0.273      0.217\n",
            "                 knife        128         16       0.54      0.562       0.61      0.365\n",
            "                 spoon        128         22      0.536      0.212       0.34      0.183\n",
            "                  bowl        128         28      0.631       0.75       0.66      0.521\n",
            "                banana        128          1          0          0      0.166     0.0495\n",
            "              sandwich        128          2       0.45       0.85      0.497      0.497\n",
            "                orange        128          4          1      0.475      0.995      0.666\n",
            "              broccoli        128         11      0.361      0.182      0.257      0.213\n",
            "                carrot        128         24      0.594      0.667      0.671      0.424\n",
            "               hot dog        128          2      0.531          1      0.828      0.828\n",
            "                 pizza        128          5      0.621          1      0.995      0.866\n",
            "                 donut        128         14      0.605          1      0.897      0.788\n",
            "                  cake        128          4      0.597          1      0.945       0.82\n",
            "                 chair        128         35      0.429      0.514      0.433      0.253\n",
            "                 couch        128          6      0.571      0.667      0.736      0.551\n",
            "          potted plant        128         14      0.552      0.618      0.696      0.477\n",
            "                   bed        128          3       0.84          1      0.995      0.764\n",
            "          dining table        128         13      0.407      0.581      0.497       0.39\n",
            "                toilet        128          2      0.608        0.5      0.828      0.796\n",
            "                    tv        128          2      0.504        0.5      0.828      0.762\n",
            "                laptop        128          3      0.973      0.333       0.55      0.442\n",
            "                 mouse        128          2          1          0          0          0\n",
            "                remote        128          8      0.704        0.5      0.586      0.484\n",
            "            cell phone        128          8          0          0     0.0446     0.0216\n",
            "             microwave        128          3      0.438      0.792       0.83      0.716\n",
            "                  oven        128          5      0.322        0.4      0.378      0.297\n",
            "                  sink        128          6      0.353      0.167      0.172      0.115\n",
            "          refrigerator        128          5      0.527        0.4       0.62      0.488\n",
            "                  book        128         29      0.446      0.112      0.275       0.15\n",
            "                 clock        128          9      0.783      0.802        0.9      0.735\n",
            "                  vase        128          2      0.408          1      0.828      0.745\n",
            "              scissors        128          1          1          0      0.199     0.0597\n",
            "            teddy bear        128         21      0.817      0.426      0.607      0.411\n",
            "            toothbrush        128          5          1      0.532       0.88      0.561\n",
            "Speed: 2.4ms preprocess, 230.9ms inference, 0.0ms loss, 3.7ms postprocess per image\n",
            "Results saved to \u001b[1mruns/detect/train2\u001b[0m\n",
            "\n",
            "Downloading https://ultralytics.com/images/bus.jpg to 'bus.jpg'...\n"
          ]
        },
        {
          "output_type": "stream",
          "name": "stderr",
          "text": [
            "100%|██████████| 476k/476k [00:00<00:00, 12.4MB/s]\n"
          ]
        },
        {
          "output_type": "stream",
          "name": "stdout",
          "text": [
            "image 1/1 /content/bus.jpg: 640x480 4 persons, 1 bus, 1 stop sign, 196.4ms\n",
            "Speed: 3.7ms preprocess, 196.4ms inference, 5.2ms postprocess per image at shape (1, 3, 640, 480)\n",
            "Ultralytics YOLOv8.1.1 🚀 Python-3.10.12 torch-2.1.0+cu121 CPU (Intel Xeon 2.20GHz)\n",
            "\n",
            "\u001b[34m\u001b[1mPyTorch:\u001b[0m starting from 'runs/detect/train/weights/best.pt' with input shape (1, 3, 640, 640) BCHW and output shape(s) (1, 84, 8400) (6.2 MB)\n",
            "\u001b[31m\u001b[1mrequirements:\u001b[0m Ultralytics requirement ['onnx>=1.12.0'] not found, attempting AutoUpdate...\n",
            "Collecting onnx>=1.12.0\n",
            "  Downloading onnx-1.15.0-cp310-cp310-manylinux_2_17_x86_64.manylinux2014_x86_64.whl (15.7 MB)\n",
            "     ━━━━━━━━━━━━━━━━━━━━━━━━━━━━━━━━━━━━━━━━ 15.7/15.7 MB 78.7 MB/s eta 0:00:00\n",
            "Requirement already satisfied: numpy in /usr/local/lib/python3.10/dist-packages (from onnx>=1.12.0) (1.23.5)\n",
            "Requirement already satisfied: protobuf>=3.20.2 in /usr/local/lib/python3.10/dist-packages (from onnx>=1.12.0) (3.20.3)\n",
            "Installing collected packages: onnx\n",
            "Successfully installed onnx-1.15.0\n",
            "\n",
            "\u001b[31m\u001b[1mrequirements:\u001b[0m AutoUpdate success ✅ 11.0s, installed 1 package: ['onnx>=1.12.0']\n",
            "\u001b[31m\u001b[1mrequirements:\u001b[0m ⚠️ \u001b[1mRestart runtime or rerun command for updates to take effect\u001b[0m\n",
            "\n",
            "\n",
            "\u001b[34m\u001b[1mONNX:\u001b[0m starting export with onnx 1.15.0 opset 17...\n",
            "\u001b[34m\u001b[1mONNX:\u001b[0m export success ✅ 12.0s, saved as 'runs/detect/train/weights/best.onnx' (12.2 MB)\n",
            "\n",
            "Export complete (13.7s)\n",
            "Results saved to \u001b[1m/content/runs/detect/train/weights\u001b[0m\n",
            "Predict:         yolo predict task=detect model=runs/detect/train/weights/best.onnx imgsz=640  \n",
            "Validate:        yolo val task=detect model=runs/detect/train/weights/best.onnx imgsz=640 data=/usr/local/lib/python3.10/dist-packages/ultralytics/cfg/datasets/coco128.yaml  \n",
            "Visualize:       https://netron.app\n"
          ]
        }
      ]
    },
    {
      "cell_type": "code",
      "source": [],
      "metadata": {
        "id": "1F4hUtN3zvel"
      },
      "execution_count": null,
      "outputs": []
    }
  ]
}